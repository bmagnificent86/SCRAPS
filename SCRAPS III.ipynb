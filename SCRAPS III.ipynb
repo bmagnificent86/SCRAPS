{
 "cells": [
  {
   "cell_type": "code",
   "execution_count": 1,
   "metadata": {},
   "outputs": [],
   "source": [
    "import numpy as np\n",
    "import pandas as pd\n",
    "import scipy \n",
    "import matplotlib.pyplot as plt\n",
    "import statistics\n",
    "from scipy.stats import ttest_ind\n",
    "from sqlalchemy import create_engine\n",
    "%matplotlib inline\n",
    "\n",
    "postgres_user = 'dsbc_student'\n",
    "postgres_pw   = '7*.8G9QH21'\n",
    "postgres_host = '142.93.121.174'\n",
    "postgres_port = '5432'\n",
    "postgres_db   = 'kickstarterprojects'\n",
    "\n",
    "engine = create_engine('postgresql://{}:{}@{}:{}/{}'.format(postgres_user,postgres_pw,postgres_host,postgres_port,postgres_db))\n",
    "\n",
    "\n",
    "ksprojects_3DPrinting = engine.execute(\"SELECT category, main_category, goal,state, Round(usd_pledged) AS usd_pledged_avg FROM ksprojects WHERE category = '3D Printing' AND state = 'successful' \")\n",
    "engine.dispose()\n",
    "\n",
    "rows_ksprojects_3DPrinting = ksprojects_3DPrinting.fetchall()"
   ]
  },
  {
   "cell_type": "code",
   "execution_count": 2,
   "metadata": {},
   "outputs": [
    {
     "name": "stdout",
     "output_type": "stream",
     "text": [
      "[27362.0, 636502.0, 413531.0, 25123.0, 16049.0, 101000.0, 3401361.0, 40314.0, 6506.0, 15535.0, 373917.0, 118924.0, 156885.0, 56103.0, 8969.0, 291.0, 2112.0, 662.0, 30313.0, 56398.0, 189815.0, 45284.0, 22549.0, 3016.0, 9035.0, 409550.0, 49586.0, 169362.0, 69837.0, 4508.0, 35287.0, 599925.0, 31013.0, 235054.0, 13602.0, 185669.0, 1422.0, 7374.0, 24417.0, 433860.0, 29797.0, 27245.0, 10087.0]\n"
     ]
    }
   ],
   "source": [
    "usd_charges=[x['usd_pledged_avg'] for x in rows_ksprojects_3DPrinting]\n",
    "print(usd_charges)"
   ]
  },
  {
   "cell_type": "code",
   "execution_count": 3,
   "metadata": {},
   "outputs": [
    {
     "name": "stdout",
     "output_type": "stream",
     "text": [
      "The mean of 3D printing Successful usd pledges: 188259\n",
      "The standard deviation of 3D printing Successful usd pledges: 527938\n"
     ]
    }
   ],
   "source": [
    "print ('The mean of 3D printing Successful usd pledges: {}'.format(round(statistics.mean(usd_charges))))\n",
    "print ('The standard deviation of 3D printing Successful usd pledges: {}'.format(round(statistics.stdev(usd_charges))))"
   ]
  },
  {
   "cell_type": "code",
   "execution_count": 8,
   "metadata": {},
   "outputs": [
    {
     "ename": "SyntaxError",
     "evalue": "invalid syntax (<ipython-input-8-a45da2615231>, line 2)",
     "output_type": "error",
     "traceback": [
      "\u001b[1;36m  File \u001b[1;32m\"<ipython-input-8-a45da2615231>\"\u001b[1;36m, line \u001b[1;32m2\u001b[0m\n\u001b[1;33m    plt.axvline( round(statistics.mean(usd_charges)) + (round(statistics.stdev(usd_charges)), color'b', linestyle='dashed', linewidth=2)                                            )                                                                              )\u001b[0m\n\u001b[1;37m                                                                                                     ^\u001b[0m\n\u001b[1;31mSyntaxError\u001b[0m\u001b[1;31m:\u001b[0m invalid syntax\n"
     ]
    }
   ],
   "source": [
    "plt.axvline( round(statistics.mean(usd_charges)), color='b', linestyle='solid', linewidth=2)\n",
    "plt.axvline( round(statistics.mean(usd_charges)) + (round(statistics.stdev(usd_charges)), color'b', linestyle='dashed', linewidth=2)                                            )                                                                              )\n",
    "plt.axvline( round(statistics.mean(usd_charges)) - round(statistics.stdev(usd_charges)), color'b', linestyle='dashed', linewidth=2 )\n",
    "\n",
    "plt.hist(usd_charges,alpha=0.5 ,bins=(10))\n",
    "plt.show()"
   ]
  },
  {
   "cell_type": "code",
   "execution_count": null,
   "metadata": {},
   "outputs": [],
   "source": []
  }
 ],
 "metadata": {
  "kernelspec": {
   "display_name": "Python 3",
   "language": "python",
   "name": "python3"
  },
  "language_info": {
   "codemirror_mode": {
    "name": "ipython",
    "version": 3
   },
   "file_extension": ".py",
   "mimetype": "text/x-python",
   "name": "python",
   "nbconvert_exporter": "python",
   "pygments_lexer": "ipython3",
   "version": "3.7.3"
  }
 },
 "nbformat": 4,
 "nbformat_minor": 2
}
